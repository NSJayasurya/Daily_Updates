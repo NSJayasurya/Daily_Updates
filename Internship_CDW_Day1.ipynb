{
  "nbformat": 4,
  "nbformat_minor": 0,
  "metadata": {
    "colab": {
      "provenance": []
    },
    "kernelspec": {
      "name": "python3",
      "display_name": "Python 3"
    },
    "language_info": {
      "name": "python"
    }
  },
  "cells": [
    {
      "cell_type": "code",
      "source": [
        "import pandas as pd"
      ],
      "metadata": {
        "id": "UVgPNuuQqCXw"
      },
      "execution_count": null,
      "outputs": []
    },
    {
      "cell_type": "code",
      "execution_count": null,
      "metadata": {
        "colab": {
          "base_uri": "https://localhost:8080/"
        },
        "id": "V8_mbpdgbojh",
        "outputId": "edd88e4f-6fbc-4d02-db72-b9ae9514937e"
      },
      "outputs": [
        {
          "output_type": "stream",
          "name": "stdout",
          "text": [
            "Requirement already satisfied: nltk in /usr/local/lib/python3.11/dist-packages (3.9.1)\n",
            "Requirement already satisfied: click in /usr/local/lib/python3.11/dist-packages (from nltk) (8.1.8)\n",
            "Requirement already satisfied: joblib in /usr/local/lib/python3.11/dist-packages (from nltk) (1.4.2)\n",
            "Requirement already satisfied: regex>=2021.8.3 in /usr/local/lib/python3.11/dist-packages (from nltk) (2024.11.6)\n",
            "Requirement already satisfied: tqdm in /usr/local/lib/python3.11/dist-packages (from nltk) (4.67.1)\n"
          ]
        }
      ],
      "source": [
        "!pip install nltk"
      ]
    },
    {
      "cell_type": "code",
      "source": [
        "my_script = \"\"\"Las Vegas,colloquially referred to as Vegas, is the most populous city in the U.S. state of Nevada and the seat of Clark County.\n",
        "The Las Vegas Valley metropolitan area is the largest within the greater Mojave Desert, and second-largest in the Southwestern United States.\n",
        "Las Vegas is an internationally renowned major resort city, known primarily for its gambling, shopping, fine dining, entertainment, and nightlife, with most venues centered on downtown Las Vegas and more to the Las Vegas Strip just outside city limits.\n",
        " The Las Vegas Valley as a whole serves as the leading financial, commercial, and cultural center in Nevada.\n",
        "   According to the United States Census Bureau, the city had 641,903 residents in 2020, with a metropolitan population of 2,227,053, making it the 24th-most populous city in the United States.\n",
        "\"\"\""
      ],
      "metadata": {
        "id": "SWPosmXWfWWW"
      },
      "execution_count": null,
      "outputs": []
    },
    {
      "cell_type": "code",
      "source": [
        "from nltk.tokenize import sent_tokenize , word_tokenize"
      ],
      "metadata": {
        "id": "EnjWixv7g44u"
      },
      "execution_count": null,
      "outputs": []
    },
    {
      "cell_type": "code",
      "source": [
        "import nltk\n",
        "nltk.download('punkt_tab')"
      ],
      "metadata": {
        "colab": {
          "base_uri": "https://localhost:8080/"
        },
        "id": "0dtD0c3PkjcX",
        "outputId": "d3cfa4fe-3cff-486f-bb64-9909f9111424"
      },
      "execution_count": 2,
      "outputs": [
        {
          "output_type": "stream",
          "name": "stderr",
          "text": [
            "[nltk_data] Downloading package punkt_tab to /root/nltk_data...\n",
            "[nltk_data]   Unzipping tokenizers/punkt_tab.zip.\n"
          ]
        },
        {
          "output_type": "execute_result",
          "data": {
            "text/plain": [
              "True"
            ]
          },
          "metadata": {},
          "execution_count": 2
        }
      ]
    },
    {
      "cell_type": "code",
      "source": [
        "new_script = sent_tokenize(my_script)"
      ],
      "metadata": {
        "id": "NM4WwfpUkpn0"
      },
      "execution_count": null,
      "outputs": []
    },
    {
      "cell_type": "code",
      "source": [
        "new_script"
      ],
      "metadata": {
        "colab": {
          "base_uri": "https://localhost:8080/"
        },
        "id": "BfFJC9SaksyI",
        "outputId": "554df3ae-6166-461a-995d-14a13a6e38cf"
      },
      "execution_count": null,
      "outputs": [
        {
          "output_type": "execute_result",
          "data": {
            "text/plain": [
              "['Las Vegas,colloquially referred to as Vegas, is the most populous city in the U.S. state of Nevada and the seat of Clark County.',\n",
              " 'The Las Vegas Valley metropolitan area is the largest within the greater Mojave Desert, and second-largest in the Southwestern United States.',\n",
              " 'Las Vegas is an internationally renowned major resort city, known primarily for its gambling, shopping, fine dining, entertainment, and nightlife, with most venues centered on downtown Las Vegas and more to the Las Vegas Strip just outside city limits.',\n",
              " 'The Las Vegas Valley as a whole serves as the leading financial, commercial, and cultural center in Nevada.',\n",
              " 'According to the United States Census Bureau, the city had 641,903 residents in 2020, with a metropolitan population of 2,227,053, making it the 24th-most populous city in the United States.']"
            ]
          },
          "metadata": {},
          "execution_count": 7
        }
      ]
    },
    {
      "cell_type": "code",
      "source": [
        "word_tokenized = word_tokenize(my_script)\n",
        "word_tokenized"
      ],
      "metadata": {
        "colab": {
          "base_uri": "https://localhost:8080/"
        },
        "id": "yFsN4_UHkuz9",
        "outputId": "ee8b4cbb-92ea-4f2f-8720-1fe82051649b"
      },
      "execution_count": null,
      "outputs": [
        {
          "output_type": "execute_result",
          "data": {
            "text/plain": [
              "['Las',\n",
              " 'Vegas',\n",
              " ',',\n",
              " 'colloquially',\n",
              " 'referred',\n",
              " 'to',\n",
              " 'as',\n",
              " 'Vegas',\n",
              " ',',\n",
              " 'is',\n",
              " 'the',\n",
              " 'most',\n",
              " 'populous',\n",
              " 'city',\n",
              " 'in',\n",
              " 'the',\n",
              " 'U.S.',\n",
              " 'state',\n",
              " 'of',\n",
              " 'Nevada',\n",
              " 'and',\n",
              " 'the',\n",
              " 'seat',\n",
              " 'of',\n",
              " 'Clark',\n",
              " 'County',\n",
              " '.',\n",
              " 'The',\n",
              " 'Las',\n",
              " 'Vegas',\n",
              " 'Valley',\n",
              " 'metropolitan',\n",
              " 'area',\n",
              " 'is',\n",
              " 'the',\n",
              " 'largest',\n",
              " 'within',\n",
              " 'the',\n",
              " 'greater',\n",
              " 'Mojave',\n",
              " 'Desert',\n",
              " ',',\n",
              " 'and',\n",
              " 'second-largest',\n",
              " 'in',\n",
              " 'the',\n",
              " 'Southwestern',\n",
              " 'United',\n",
              " 'States',\n",
              " '.',\n",
              " 'Las',\n",
              " 'Vegas',\n",
              " 'is',\n",
              " 'an',\n",
              " 'internationally',\n",
              " 'renowned',\n",
              " 'major',\n",
              " 'resort',\n",
              " 'city',\n",
              " ',',\n",
              " 'known',\n",
              " 'primarily',\n",
              " 'for',\n",
              " 'its',\n",
              " 'gambling',\n",
              " ',',\n",
              " 'shopping',\n",
              " ',',\n",
              " 'fine',\n",
              " 'dining',\n",
              " ',',\n",
              " 'entertainment',\n",
              " ',',\n",
              " 'and',\n",
              " 'nightlife',\n",
              " ',',\n",
              " 'with',\n",
              " 'most',\n",
              " 'venues',\n",
              " 'centered',\n",
              " 'on',\n",
              " 'downtown',\n",
              " 'Las',\n",
              " 'Vegas',\n",
              " 'and',\n",
              " 'more',\n",
              " 'to',\n",
              " 'the',\n",
              " 'Las',\n",
              " 'Vegas',\n",
              " 'Strip',\n",
              " 'just',\n",
              " 'outside',\n",
              " 'city',\n",
              " 'limits',\n",
              " '.',\n",
              " 'The',\n",
              " 'Las',\n",
              " 'Vegas',\n",
              " 'Valley',\n",
              " 'as',\n",
              " 'a',\n",
              " 'whole',\n",
              " 'serves',\n",
              " 'as',\n",
              " 'the',\n",
              " 'leading',\n",
              " 'financial',\n",
              " ',',\n",
              " 'commercial',\n",
              " ',',\n",
              " 'and',\n",
              " 'cultural',\n",
              " 'center',\n",
              " 'in',\n",
              " 'Nevada',\n",
              " '.',\n",
              " 'According',\n",
              " 'to',\n",
              " 'the',\n",
              " 'United',\n",
              " 'States',\n",
              " 'Census',\n",
              " 'Bureau',\n",
              " ',',\n",
              " 'the',\n",
              " 'city',\n",
              " 'had',\n",
              " '641,903',\n",
              " 'residents',\n",
              " 'in',\n",
              " '2020',\n",
              " ',',\n",
              " 'with',\n",
              " 'a',\n",
              " 'metropolitan',\n",
              " 'population',\n",
              " 'of',\n",
              " '2,227,053',\n",
              " ',',\n",
              " 'making',\n",
              " 'it',\n",
              " 'the',\n",
              " '24th-most',\n",
              " 'populous',\n",
              " 'city',\n",
              " 'in',\n",
              " 'the',\n",
              " 'United',\n",
              " 'States',\n",
              " '.']"
            ]
          },
          "metadata": {},
          "execution_count": 8
        }
      ]
    },
    {
      "cell_type": "code",
      "source": [
        "from nltk.stem import PorterStemmer"
      ],
      "metadata": {
        "id": "HbFt71ULk1Oy"
      },
      "execution_count": null,
      "outputs": []
    },
    {
      "cell_type": "code",
      "source": [
        "words=[\"connect\",\"connected\",\"connection\",\"connections\",\"connects\"]\n",
        "stemmer = PorterStemmer()\n",
        "stemmed_words=[stemmer.stem(word=word) for word in words]\n",
        "\n",
        "stemdf= pd.DataFrame({'original_word': words,'stemmed_word': stemmed_words})\n",
        "stemdf"
      ],
      "metadata": {
        "colab": {
          "base_uri": "https://localhost:8080/",
          "height": 206
        },
        "id": "3jBqdUqJpjze",
        "outputId": "832993e5-336a-4cc3-abaf-2956b20b5ac6"
      },
      "execution_count": null,
      "outputs": [
        {
          "output_type": "execute_result",
          "data": {
            "text/plain": [
              "  original_word stemmed_word\n",
              "0       connect      connect\n",
              "1     connected      connect\n",
              "2    connection      connect\n",
              "3   connections      connect\n",
              "4      connects      connect"
            ],
            "text/html": [
              "\n",
              "  <div id=\"df-0ff78314-ef28-4cd9-8596-8caa18889f7c\" class=\"colab-df-container\">\n",
              "    <div>\n",
              "<style scoped>\n",
              "    .dataframe tbody tr th:only-of-type {\n",
              "        vertical-align: middle;\n",
              "    }\n",
              "\n",
              "    .dataframe tbody tr th {\n",
              "        vertical-align: top;\n",
              "    }\n",
              "\n",
              "    .dataframe thead th {\n",
              "        text-align: right;\n",
              "    }\n",
              "</style>\n",
              "<table border=\"1\" class=\"dataframe\">\n",
              "  <thead>\n",
              "    <tr style=\"text-align: right;\">\n",
              "      <th></th>\n",
              "      <th>original_word</th>\n",
              "      <th>stemmed_word</th>\n",
              "    </tr>\n",
              "  </thead>\n",
              "  <tbody>\n",
              "    <tr>\n",
              "      <th>0</th>\n",
              "      <td>connect</td>\n",
              "      <td>connect</td>\n",
              "    </tr>\n",
              "    <tr>\n",
              "      <th>1</th>\n",
              "      <td>connected</td>\n",
              "      <td>connect</td>\n",
              "    </tr>\n",
              "    <tr>\n",
              "      <th>2</th>\n",
              "      <td>connection</td>\n",
              "      <td>connect</td>\n",
              "    </tr>\n",
              "    <tr>\n",
              "      <th>3</th>\n",
              "      <td>connections</td>\n",
              "      <td>connect</td>\n",
              "    </tr>\n",
              "    <tr>\n",
              "      <th>4</th>\n",
              "      <td>connects</td>\n",
              "      <td>connect</td>\n",
              "    </tr>\n",
              "  </tbody>\n",
              "</table>\n",
              "</div>\n",
              "    <div class=\"colab-df-buttons\">\n",
              "\n",
              "  <div class=\"colab-df-container\">\n",
              "    <button class=\"colab-df-convert\" onclick=\"convertToInteractive('df-0ff78314-ef28-4cd9-8596-8caa18889f7c')\"\n",
              "            title=\"Convert this dataframe to an interactive table.\"\n",
              "            style=\"display:none;\">\n",
              "\n",
              "  <svg xmlns=\"http://www.w3.org/2000/svg\" height=\"24px\" viewBox=\"0 -960 960 960\">\n",
              "    <path d=\"M120-120v-720h720v720H120Zm60-500h600v-160H180v160Zm220 220h160v-160H400v160Zm0 220h160v-160H400v160ZM180-400h160v-160H180v160Zm440 0h160v-160H620v160ZM180-180h160v-160H180v160Zm440 0h160v-160H620v160Z\"/>\n",
              "  </svg>\n",
              "    </button>\n",
              "\n",
              "  <style>\n",
              "    .colab-df-container {\n",
              "      display:flex;\n",
              "      gap: 12px;\n",
              "    }\n",
              "\n",
              "    .colab-df-convert {\n",
              "      background-color: #E8F0FE;\n",
              "      border: none;\n",
              "      border-radius: 50%;\n",
              "      cursor: pointer;\n",
              "      display: none;\n",
              "      fill: #1967D2;\n",
              "      height: 32px;\n",
              "      padding: 0 0 0 0;\n",
              "      width: 32px;\n",
              "    }\n",
              "\n",
              "    .colab-df-convert:hover {\n",
              "      background-color: #E2EBFA;\n",
              "      box-shadow: 0px 1px 2px rgba(60, 64, 67, 0.3), 0px 1px 3px 1px rgba(60, 64, 67, 0.15);\n",
              "      fill: #174EA6;\n",
              "    }\n",
              "\n",
              "    .colab-df-buttons div {\n",
              "      margin-bottom: 4px;\n",
              "    }\n",
              "\n",
              "    [theme=dark] .colab-df-convert {\n",
              "      background-color: #3B4455;\n",
              "      fill: #D2E3FC;\n",
              "    }\n",
              "\n",
              "    [theme=dark] .colab-df-convert:hover {\n",
              "      background-color: #434B5C;\n",
              "      box-shadow: 0px 1px 3px 1px rgba(0, 0, 0, 0.15);\n",
              "      filter: drop-shadow(0px 1px 2px rgba(0, 0, 0, 0.3));\n",
              "      fill: #FFFFFF;\n",
              "    }\n",
              "  </style>\n",
              "\n",
              "    <script>\n",
              "      const buttonEl =\n",
              "        document.querySelector('#df-0ff78314-ef28-4cd9-8596-8caa18889f7c button.colab-df-convert');\n",
              "      buttonEl.style.display =\n",
              "        google.colab.kernel.accessAllowed ? 'block' : 'none';\n",
              "\n",
              "      async function convertToInteractive(key) {\n",
              "        const element = document.querySelector('#df-0ff78314-ef28-4cd9-8596-8caa18889f7c');\n",
              "        const dataTable =\n",
              "          await google.colab.kernel.invokeFunction('convertToInteractive',\n",
              "                                                    [key], {});\n",
              "        if (!dataTable) return;\n",
              "\n",
              "        const docLinkHtml = 'Like what you see? Visit the ' +\n",
              "          '<a target=\"_blank\" href=https://colab.research.google.com/notebooks/data_table.ipynb>data table notebook</a>'\n",
              "          + ' to learn more about interactive tables.';\n",
              "        element.innerHTML = '';\n",
              "        dataTable['output_type'] = 'display_data';\n",
              "        await google.colab.output.renderOutput(dataTable, element);\n",
              "        const docLink = document.createElement('div');\n",
              "        docLink.innerHTML = docLinkHtml;\n",
              "        element.appendChild(docLink);\n",
              "      }\n",
              "    </script>\n",
              "  </div>\n",
              "\n",
              "\n",
              "<div id=\"df-91e0dbe3-449c-4839-9432-ef06ba205c63\">\n",
              "  <button class=\"colab-df-quickchart\" onclick=\"quickchart('df-91e0dbe3-449c-4839-9432-ef06ba205c63')\"\n",
              "            title=\"Suggest charts\"\n",
              "            style=\"display:none;\">\n",
              "\n",
              "<svg xmlns=\"http://www.w3.org/2000/svg\" height=\"24px\"viewBox=\"0 0 24 24\"\n",
              "     width=\"24px\">\n",
              "    <g>\n",
              "        <path d=\"M19 3H5c-1.1 0-2 .9-2 2v14c0 1.1.9 2 2 2h14c1.1 0 2-.9 2-2V5c0-1.1-.9-2-2-2zM9 17H7v-7h2v7zm4 0h-2V7h2v10zm4 0h-2v-4h2v4z\"/>\n",
              "    </g>\n",
              "</svg>\n",
              "  </button>\n",
              "\n",
              "<style>\n",
              "  .colab-df-quickchart {\n",
              "      --bg-color: #E8F0FE;\n",
              "      --fill-color: #1967D2;\n",
              "      --hover-bg-color: #E2EBFA;\n",
              "      --hover-fill-color: #174EA6;\n",
              "      --disabled-fill-color: #AAA;\n",
              "      --disabled-bg-color: #DDD;\n",
              "  }\n",
              "\n",
              "  [theme=dark] .colab-df-quickchart {\n",
              "      --bg-color: #3B4455;\n",
              "      --fill-color: #D2E3FC;\n",
              "      --hover-bg-color: #434B5C;\n",
              "      --hover-fill-color: #FFFFFF;\n",
              "      --disabled-bg-color: #3B4455;\n",
              "      --disabled-fill-color: #666;\n",
              "  }\n",
              "\n",
              "  .colab-df-quickchart {\n",
              "    background-color: var(--bg-color);\n",
              "    border: none;\n",
              "    border-radius: 50%;\n",
              "    cursor: pointer;\n",
              "    display: none;\n",
              "    fill: var(--fill-color);\n",
              "    height: 32px;\n",
              "    padding: 0;\n",
              "    width: 32px;\n",
              "  }\n",
              "\n",
              "  .colab-df-quickchart:hover {\n",
              "    background-color: var(--hover-bg-color);\n",
              "    box-shadow: 0 1px 2px rgba(60, 64, 67, 0.3), 0 1px 3px 1px rgba(60, 64, 67, 0.15);\n",
              "    fill: var(--button-hover-fill-color);\n",
              "  }\n",
              "\n",
              "  .colab-df-quickchart-complete:disabled,\n",
              "  .colab-df-quickchart-complete:disabled:hover {\n",
              "    background-color: var(--disabled-bg-color);\n",
              "    fill: var(--disabled-fill-color);\n",
              "    box-shadow: none;\n",
              "  }\n",
              "\n",
              "  .colab-df-spinner {\n",
              "    border: 2px solid var(--fill-color);\n",
              "    border-color: transparent;\n",
              "    border-bottom-color: var(--fill-color);\n",
              "    animation:\n",
              "      spin 1s steps(1) infinite;\n",
              "  }\n",
              "\n",
              "  @keyframes spin {\n",
              "    0% {\n",
              "      border-color: transparent;\n",
              "      border-bottom-color: var(--fill-color);\n",
              "      border-left-color: var(--fill-color);\n",
              "    }\n",
              "    20% {\n",
              "      border-color: transparent;\n",
              "      border-left-color: var(--fill-color);\n",
              "      border-top-color: var(--fill-color);\n",
              "    }\n",
              "    30% {\n",
              "      border-color: transparent;\n",
              "      border-left-color: var(--fill-color);\n",
              "      border-top-color: var(--fill-color);\n",
              "      border-right-color: var(--fill-color);\n",
              "    }\n",
              "    40% {\n",
              "      border-color: transparent;\n",
              "      border-right-color: var(--fill-color);\n",
              "      border-top-color: var(--fill-color);\n",
              "    }\n",
              "    60% {\n",
              "      border-color: transparent;\n",
              "      border-right-color: var(--fill-color);\n",
              "    }\n",
              "    80% {\n",
              "      border-color: transparent;\n",
              "      border-right-color: var(--fill-color);\n",
              "      border-bottom-color: var(--fill-color);\n",
              "    }\n",
              "    90% {\n",
              "      border-color: transparent;\n",
              "      border-bottom-color: var(--fill-color);\n",
              "    }\n",
              "  }\n",
              "</style>\n",
              "\n",
              "  <script>\n",
              "    async function quickchart(key) {\n",
              "      const quickchartButtonEl =\n",
              "        document.querySelector('#' + key + ' button');\n",
              "      quickchartButtonEl.disabled = true;  // To prevent multiple clicks.\n",
              "      quickchartButtonEl.classList.add('colab-df-spinner');\n",
              "      try {\n",
              "        const charts = await google.colab.kernel.invokeFunction(\n",
              "            'suggestCharts', [key], {});\n",
              "      } catch (error) {\n",
              "        console.error('Error during call to suggestCharts:', error);\n",
              "      }\n",
              "      quickchartButtonEl.classList.remove('colab-df-spinner');\n",
              "      quickchartButtonEl.classList.add('colab-df-quickchart-complete');\n",
              "    }\n",
              "    (() => {\n",
              "      let quickchartButtonEl =\n",
              "        document.querySelector('#df-91e0dbe3-449c-4839-9432-ef06ba205c63 button');\n",
              "      quickchartButtonEl.style.display =\n",
              "        google.colab.kernel.accessAllowed ? 'block' : 'none';\n",
              "    })();\n",
              "  </script>\n",
              "</div>\n",
              "\n",
              "  <div id=\"id_ad588d65-730c-4e50-a426-cfa54f80ffda\">\n",
              "    <style>\n",
              "      .colab-df-generate {\n",
              "        background-color: #E8F0FE;\n",
              "        border: none;\n",
              "        border-radius: 50%;\n",
              "        cursor: pointer;\n",
              "        display: none;\n",
              "        fill: #1967D2;\n",
              "        height: 32px;\n",
              "        padding: 0 0 0 0;\n",
              "        width: 32px;\n",
              "      }\n",
              "\n",
              "      .colab-df-generate:hover {\n",
              "        background-color: #E2EBFA;\n",
              "        box-shadow: 0px 1px 2px rgba(60, 64, 67, 0.3), 0px 1px 3px 1px rgba(60, 64, 67, 0.15);\n",
              "        fill: #174EA6;\n",
              "      }\n",
              "\n",
              "      [theme=dark] .colab-df-generate {\n",
              "        background-color: #3B4455;\n",
              "        fill: #D2E3FC;\n",
              "      }\n",
              "\n",
              "      [theme=dark] .colab-df-generate:hover {\n",
              "        background-color: #434B5C;\n",
              "        box-shadow: 0px 1px 3px 1px rgba(0, 0, 0, 0.15);\n",
              "        filter: drop-shadow(0px 1px 2px rgba(0, 0, 0, 0.3));\n",
              "        fill: #FFFFFF;\n",
              "      }\n",
              "    </style>\n",
              "    <button class=\"colab-df-generate\" onclick=\"generateWithVariable('stemdf')\"\n",
              "            title=\"Generate code using this dataframe.\"\n",
              "            style=\"display:none;\">\n",
              "\n",
              "  <svg xmlns=\"http://www.w3.org/2000/svg\" height=\"24px\"viewBox=\"0 0 24 24\"\n",
              "       width=\"24px\">\n",
              "    <path d=\"M7,19H8.4L18.45,9,17,7.55,7,17.6ZM5,21V16.75L18.45,3.32a2,2,0,0,1,2.83,0l1.4,1.43a1.91,1.91,0,0,1,.58,1.4,1.91,1.91,0,0,1-.58,1.4L9.25,21ZM18.45,9,17,7.55Zm-12,3A5.31,5.31,0,0,0,4.9,8.1,5.31,5.31,0,0,0,1,6.5,5.31,5.31,0,0,0,4.9,4.9,5.31,5.31,0,0,0,6.5,1,5.31,5.31,0,0,0,8.1,4.9,5.31,5.31,0,0,0,12,6.5,5.46,5.46,0,0,0,6.5,12Z\"/>\n",
              "  </svg>\n",
              "    </button>\n",
              "    <script>\n",
              "      (() => {\n",
              "      const buttonEl =\n",
              "        document.querySelector('#id_ad588d65-730c-4e50-a426-cfa54f80ffda button.colab-df-generate');\n",
              "      buttonEl.style.display =\n",
              "        google.colab.kernel.accessAllowed ? 'block' : 'none';\n",
              "\n",
              "      buttonEl.onclick = () => {\n",
              "        google.colab.notebook.generateWithVariable('stemdf');\n",
              "      }\n",
              "      })();\n",
              "    </script>\n",
              "  </div>\n",
              "\n",
              "    </div>\n",
              "  </div>\n"
            ],
            "application/vnd.google.colaboratory.intrinsic+json": {
              "type": "dataframe",
              "variable_name": "stemdf",
              "summary": "{\n  \"name\": \"stemdf\",\n  \"rows\": 5,\n  \"fields\": [\n    {\n      \"column\": \"original_word\",\n      \"properties\": {\n        \"dtype\": \"string\",\n        \"num_unique_values\": 5,\n        \"samples\": [\n          \"connected\",\n          \"connects\",\n          \"connection\"\n        ],\n        \"semantic_type\": \"\",\n        \"description\": \"\"\n      }\n    },\n    {\n      \"column\": \"stemmed_word\",\n      \"properties\": {\n        \"dtype\": \"category\",\n        \"num_unique_values\": 1,\n        \"samples\": [\n          \"connect\"\n        ],\n        \"semantic_type\": \"\",\n        \"description\": \"\"\n      }\n    }\n  ]\n}"
            }
          },
          "metadata": {},
          "execution_count": 21
        }
      ]
    },
    {
      "cell_type": "markdown",
      "source": [
        "20/01/25\n",
        "Pipeline of preprocessing"
      ],
      "metadata": {
        "id": "UcnWfS5zVxRz"
      }
    },
    {
      "cell_type": "code",
      "source": [
        "import nltk\n",
        "from nltk.tokenize import word_tokenize\n",
        "from nltk.corpus import stopwords\n",
        "from nltk.stem import PorterStemmer, WordNetLemmatizer\n",
        "\n",
        "\n",
        "nltk.download('punkt')\n",
        "nltk.download('stopwords')\n",
        "nltk.download('wordnet')\n",
        "nltk.download('punkt_tab')\n",
        "def preprocess_text(passage):\n",
        "    # Tokenize the passage\n",
        "    words = word_tokenize(passage.lower())  # Convert to lowercase\n",
        "\n",
        "\n",
        "    stop_words = set(stopwords.words('english'))\n",
        "\n",
        "\n",
        "    filtered_words = [word for word in words if word.isalnum() and word not in stop_words]\n",
        "\n",
        "    # Stemming\n",
        "    stemmer = PorterStemmer()\n",
        "    stemmed_words = [stemmer.stem(word) for word in filtered_words]\n",
        "\n",
        "    # Lemmatization\n",
        "    lemmatizer = WordNetLemmatizer()\n",
        "    lemmatized_words = [lemmatizer.lemmatize(word) for word in stemmed_words]\n",
        "\n",
        "\n",
        "    return ' '.join(lemmatized_words)\n",
        "\n",
        "\n",
        "passage = \"\"\"\n",
        "Natural Language Processing is an exciting field of Artificial Intelligence.\n",
        "It deals with the interaction between computers and humans using natural language.\n",
        "\"\"\"\n",
        "\n",
        "\n",
        "preprocessed_passage = preprocess_text(passage)\n",
        "print(\"Original Passage:\")\n",
        "print(passage)\n",
        "print(\"\\nPreprocessed Passage:\")\n",
        "print(preprocessed_passage)\n"
      ],
      "metadata": {
        "colab": {
          "base_uri": "https://localhost:8080/"
        },
        "id": "E4vkSUpWVywk",
        "outputId": "74f15f44-4fe9-4505-84c4-30fae33185c5"
      },
      "execution_count": null,
      "outputs": [
        {
          "output_type": "stream",
          "name": "stderr",
          "text": [
            "[nltk_data] Downloading package punkt to /root/nltk_data...\n",
            "[nltk_data]   Package punkt is already up-to-date!\n",
            "[nltk_data] Downloading package stopwords to /root/nltk_data...\n",
            "[nltk_data]   Package stopwords is already up-to-date!\n",
            "[nltk_data] Downloading package wordnet to /root/nltk_data...\n",
            "[nltk_data]   Package wordnet is already up-to-date!\n",
            "[nltk_data] Downloading package punkt_tab to /root/nltk_data...\n",
            "[nltk_data]   Unzipping tokenizers/punkt_tab.zip.\n"
          ]
        },
        {
          "output_type": "stream",
          "name": "stdout",
          "text": [
            "Original Passage:\n",
            "\n",
            "Natural Language Processing is an exciting field of Artificial Intelligence. \n",
            "It deals with the interaction between computers and humans using natural language.\n",
            "\n",
            "\n",
            "Preprocessed Passage:\n",
            "natur languag process excit field artifici intellig deal interact comput human use natur languag\n"
          ]
        }
      ]
    },
    {
      "cell_type": "code",
      "source": [
        "import nltk\n",
        "from nltk.tokenize import word_tokenize\n",
        "from nltk.corpus import stopwords\n",
        "from nltk.stem import PorterStemmer, WordNetLemmatizer\n",
        "\n",
        "\n",
        "nltk.download('punkt')\n",
        "nltk.download('stopwords')\n",
        "nltk.download('wordnet')\n",
        "\n",
        "def preprocess_text_with_mapping(passage):\n",
        "\n",
        "    words = word_tokenize(passage.lower())\n",
        "\n",
        "\n",
        "    stop_words = set(stopwords.words('english'))\n",
        "\n",
        "\n",
        "    filtered_words = [word for word in words if word.isalnum() and word not in stop_words]\n",
        "\n",
        "\n",
        "    stemmer = PorterStemmer()\n",
        "    stemmed_words = [stemmer.stem(word) for word in filtered_words]\n",
        "\n",
        "\n",
        "    lemmatizer = WordNetLemmatizer()\n",
        "    lemmatized_words = [lemmatizer.lemmatize(word) for word in filtered_words]\n",
        "\n",
        "\n",
        "    print(f\"{'Original':<15}{'Stemmed':<15}{'Lemmatized':<15}\")\n",
        "    print(\"=\" * 45)\n",
        "    for original, stemmed, lemmatized in zip(filtered_words, stemmed_words, lemmatized_words):\n",
        "        print(f\"{original:<15}{stemmed:<15}{lemmatized:<15}\")\n",
        "\n",
        "\n",
        "    return ' '.join(lemmatized_words)\n",
        "\n",
        "# Example passage\n",
        "passage = \"\"\"\n",
        "Natural Language Processing is an exciting field of Artificial Intelligence.\n",
        "It deals with the interaction between computers and humans using natural language.\n",
        "\"\"\"\n",
        "\n",
        "preprocessed_passage = preprocess_text_with_mapping(passage)\n",
        "\n",
        "print(\"\\nPreprocessed Passage:\")\n",
        "print(preprocessed_passage)\n"
      ],
      "metadata": {
        "colab": {
          "base_uri": "https://localhost:8080/"
        },
        "id": "cLtewmy9V2Al",
        "outputId": "c5d94b11-bb44-4986-a0cf-8c5c270b5796"
      },
      "execution_count": null,
      "outputs": [
        {
          "output_type": "stream",
          "name": "stdout",
          "text": [
            "Original       Stemmed        Lemmatized     \n",
            "=============================================\n",
            "natural        natur          natural        \n",
            "language       languag        language       \n",
            "processing     process        processing     \n",
            "exciting       excit          exciting       \n",
            "field          field          field          \n",
            "artificial     artifici       artificial     \n",
            "intelligence   intellig       intelligence   \n",
            "deals          deal           deal           \n",
            "interaction    interact       interaction    \n",
            "computers      comput         computer       \n",
            "humans         human          human          \n",
            "using          use            using          \n",
            "natural        natur          natural        \n",
            "language       languag        language       \n",
            "\n",
            "Preprocessed Passage:\n",
            "natural language processing exciting field artificial intelligence deal interaction computer human using natural language\n"
          ]
        },
        {
          "output_type": "stream",
          "name": "stderr",
          "text": [
            "[nltk_data] Downloading package punkt to /root/nltk_data...\n",
            "[nltk_data]   Package punkt is already up-to-date!\n",
            "[nltk_data] Downloading package stopwords to /root/nltk_data...\n",
            "[nltk_data]   Package stopwords is already up-to-date!\n",
            "[nltk_data] Downloading package wordnet to /root/nltk_data...\n",
            "[nltk_data]   Package wordnet is already up-to-date!\n"
          ]
        }
      ]
    },
    {
      "cell_type": "markdown",
      "source": [
        "21/01/25"
      ],
      "metadata": {
        "id": "r0M7SPwEVrL_"
      }
    },
    {
      "cell_type": "code",
      "source": [
        "import nltk\n",
        "nltk.download('stopwords')\n",
        "from nltk.corpus import stopwords\n",
        "print(\"not\" in stopwords.words('english'))  # Output: True\n"
      ],
      "metadata": {
        "colab": {
          "base_uri": "https://localhost:8080/"
        },
        "id": "A2nP3ZF9KgpL",
        "outputId": "2f1fbc87-f86f-47b2-8911-73123dcff9dc"
      },
      "execution_count": 8,
      "outputs": [
        {
          "output_type": "stream",
          "name": "stdout",
          "text": [
            "True\n"
          ]
        },
        {
          "output_type": "stream",
          "name": "stderr",
          "text": [
            "[nltk_data] Downloading package stopwords to /root/nltk_data...\n",
            "[nltk_data]   Package stopwords is already up-to-date!\n"
          ]
        }
      ]
    },
    {
      "cell_type": "markdown",
      "source": [
        "Sending to Git"
      ],
      "metadata": {
        "id": "w0of0I-UoVvZ"
      }
    },
    {
      "cell_type": "code",
      "source": [],
      "metadata": {
        "id": "IToTs8s_oY4B"
      },
      "execution_count": null,
      "outputs": []
    }
  ]
}